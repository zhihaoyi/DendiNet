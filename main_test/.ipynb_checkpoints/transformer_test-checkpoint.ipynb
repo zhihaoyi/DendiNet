{
 "cells": [
  {
   "cell_type": "code",
   "execution_count": null,
   "id": "d22b3676-71f8-4397-b1e4-1840f53b2507",
   "metadata": {},
   "outputs": [],
   "source": [
    "import matplotlib.pyplot as plt\n",
    "from utils.inference import run_encoder_decoder_inference\n",
    "US06_test_dataset = dataset_pipeline('data/25deg/', ['US06'], window_size=window_size, stride=stride,\n",
    "                                     enc_seq_len=enc_seq_len, dec_seq_len=dec_seq_len, trg_seq_len=output_sequence_length,transformer=True)\n",
    "# US06_test_loader = DataLoader(US06_test_dataset, batch_size=1)\n",
    "transformer_model= TimeSeriesTransformer(\n",
    "    input_size=input_size,\n",
    "    dec_seq_len=dec_seq_len,\n",
    "    batch_first=batch_first,\n",
    "    num_predicted_features=1,\n",
    "    out_seq_len=output_sequence_length,\n",
    "    n_heads=n_heads,\n",
    "    dim_feedforward_encoder=10,\n",
    "    dim_feedforward_decoder=10,\n",
    "    dim_val=dim_val\n",
    "    )\n",
    "org=[]\n",
    "pre=[]\n",
    "with torch.no_grad():\n",
    "    for i, (src, _, tgt_y) in enumerate(US06_test_loader):\n",
    "        src=src.permute(1,0,2)\n",
    "        tgt_y=tgt_y.permute(1,0,2)\n",
    "        tgt_y=tgt_y[0,:,-1]\n",
    "        org.append(tgt_y.detach().numpy())####append ground truth soc\n",
    "        prediction = run_encoder_decoder_inference(model=transformer_model,#####here is example, pls load model using pickle \n",
    "                                                                        src=src, \n",
    "                                                                        forecast_window=output_sequence_length,\n",
    "                                                                        batch_size=1,#####predict each step\n",
    "                                                                        device=None\n",
    "                                                                        )\n",
    "        prediction=prediction[0,:,-1]\n",
    "        pre.append(prediction.detach().numpy())\n",
    "        \n",
    "        \n",
    "plt.plot(org)\n",
    "plt.plot(pre)"
   ]
  }
 ],
 "metadata": {
  "kernelspec": {
   "display_name": "Python 3 (ipykernel)",
   "language": "python",
   "name": "python3"
  },
  "language_info": {
   "codemirror_mode": {
    "name": "ipython",
    "version": 3
   },
   "file_extension": ".py",
   "mimetype": "text/x-python",
   "name": "python",
   "nbconvert_exporter": "python",
   "pygments_lexer": "ipython3",
   "version": "3.8.10"
  }
 },
 "nbformat": 4,
 "nbformat_minor": 5
}
